{
 "cells": [
  {
   "cell_type": "code",
   "execution_count": 69,
   "metadata": {},
   "outputs": [
    {
     "name": "stdout",
     "output_type": "stream",
     "text": [
      "Requirement already satisfied: sklearn in c:\\users\\brian\\anaconda3\\lib\\site-packages (0.0)\n",
      "Requirement already satisfied: scikit-learn in c:\\users\\brian\\anaconda3\\lib\\site-packages (from sklearn) (0.23.2)\n",
      "Requirement already satisfied: threadpoolctl>=2.0.0 in c:\\users\\brian\\anaconda3\\lib\\site-packages (from scikit-learn->sklearn) (2.1.0)\n",
      "Requirement already satisfied: joblib>=0.11 in c:\\users\\brian\\anaconda3\\lib\\site-packages (from scikit-learn->sklearn) (0.17.0)\n",
      "Requirement already satisfied: scipy>=0.19.1 in c:\\users\\brian\\anaconda3\\lib\\site-packages (from scikit-learn->sklearn) (1.5.2)\n",
      "Requirement already satisfied: numpy>=1.13.3 in c:\\users\\brian\\anaconda3\\lib\\site-packages (from scikit-learn->sklearn) (1.19.2)\n",
      "Requirement already satisfied: pandas in c:\\users\\brian\\anaconda3\\lib\\site-packages (1.1.3)\n",
      "Requirement already satisfied: python-dateutil>=2.7.3 in c:\\users\\brian\\anaconda3\\lib\\site-packages (from pandas) (2.8.1)\n",
      "Requirement already satisfied: numpy>=1.15.4 in c:\\users\\brian\\anaconda3\\lib\\site-packages (from pandas) (1.19.2)\n",
      "Requirement already satisfied: pytz>=2017.2 in c:\\users\\brian\\anaconda3\\lib\\site-packages (from pandas) (2020.1)\n",
      "Requirement already satisfied: six>=1.5 in c:\\users\\brian\\anaconda3\\lib\\site-packages (from python-dateutil>=2.7.3->pandas) (1.15.0)\n",
      "Requirement already satisfied: numpy in c:\\users\\brian\\anaconda3\\lib\\site-packages (1.19.2)\n"
     ]
    }
   ],
   "source": [
    "!activate tensor\n",
    "!pip install sklearn\n",
    "!pip install pandas\n",
    "!pip install numpy"
   ]
  },
  {
   "cell_type": "code",
   "execution_count": 70,
   "metadata": {},
   "outputs": [],
   "source": [
    "import pandas as pd\n",
    "import sklearn\n",
    "import numpy as np\n",
    "from sklearn import linear_model\n",
    "from sklearn.utils import shuffle\n",
    "from sklearn import model_selection"
   ]
  },
  {
   "cell_type": "code",
   "execution_count": 71,
   "metadata": {},
   "outputs": [
    {
     "name": "stdout",
     "output_type": "stream",
     "text": [
      "<bound method NDFrame.head of     school sex  age address famsize Pstatus  Medu  Fedu      Mjob      Fjob  \\\n",
      "0       GP   F   18       U     GT3       A     4     4   at_home   teacher   \n",
      "1       GP   F   17       U     GT3       T     1     1   at_home     other   \n",
      "2       GP   F   15       U     LE3       T     1     1   at_home     other   \n",
      "3       GP   F   15       U     GT3       T     4     2    health  services   \n",
      "4       GP   F   16       U     GT3       T     3     3     other     other   \n",
      "..     ...  ..  ...     ...     ...     ...   ...   ...       ...       ...   \n",
      "390     MS   M   20       U     LE3       A     2     2  services  services   \n",
      "391     MS   M   17       U     LE3       T     3     1  services  services   \n",
      "392     MS   M   21       R     GT3       T     1     1     other     other   \n",
      "393     MS   M   18       R     LE3       T     3     2  services     other   \n",
      "394     MS   M   19       U     LE3       T     1     1     other   at_home   \n",
      "\n",
      "     ... famrel freetime  goout  Dalc  Walc health absences  G1  G2  G3  \n",
      "0    ...      4        3      4     1     1      3        6   5   6   6  \n",
      "1    ...      5        3      3     1     1      3        4   5   5   6  \n",
      "2    ...      4        3      2     2     3      3       10   7   8  10  \n",
      "3    ...      3        2      2     1     1      5        2  15  14  15  \n",
      "4    ...      4        3      2     1     2      5        4   6  10  10  \n",
      "..   ...    ...      ...    ...   ...   ...    ...      ...  ..  ..  ..  \n",
      "390  ...      5        5      4     4     5      4       11   9   9   9  \n",
      "391  ...      2        4      5     3     4      2        3  14  16  16  \n",
      "392  ...      5        5      3     3     3      3        3  10   8   7  \n",
      "393  ...      4        4      1     3     4      5        0  11  12  10  \n",
      "394  ...      3        2      3     3     3      5        5   8   9   9  \n",
      "\n",
      "[395 rows x 33 columns]>\n"
     ]
    }
   ],
   "source": [
    "# download data\n",
    "data = pd.read_csv(\"student-mat.csv\",sep = \";\")\n",
    "print (data.head)"
   ]
  },
  {
   "cell_type": "code",
   "execution_count": 72,
   "metadata": {},
   "outputs": [
    {
     "name": "stdout",
     "output_type": "stream",
     "text": [
      "<bound method NDFrame.head of      G1  G2  G3  studytime  failures  absences\n",
      "0     5   6   6          2         0         6\n",
      "1     5   5   6          2         0         4\n",
      "2     7   8  10          2         3        10\n",
      "3    15  14  15          3         0         2\n",
      "4     6  10  10          2         0         4\n",
      "..   ..  ..  ..        ...       ...       ...\n",
      "390   9   9   9          2         2        11\n",
      "391  14  16  16          1         0         3\n",
      "392  10   8   7          1         3         3\n",
      "393  11  12  10          1         0         0\n",
      "394   8   9   9          1         0         5\n",
      "\n",
      "[395 rows x 6 columns]>\n"
     ]
    }
   ],
   "source": [
    "data = data[[\"G1\",\"G2\",\"G3\",\"studytime\",\"failures\",\"absences\"]]\n",
    "print(data.head)"
   ]
  },
  {
   "cell_type": "code",
   "execution_count": 73,
   "metadata": {},
   "outputs": [
    {
     "name": "stdout",
     "output_type": "stream",
     "text": [
      "[[ 5  6  2  0  6]\n",
      " [ 5  5  2  0  4]\n",
      " [ 7  8  2  3 10]\n",
      " ...\n",
      " [10  8  1  3  3]\n",
      " [11 12  1  0  0]\n",
      " [ 8  9  1  0  5]]\n",
      "['G1', 'G2', 'studytime', 'failures', 'absences']\n"
     ]
    }
   ],
   "source": [
    "predict = \"G3\"\n",
    "X = np.array(data.drop([predict],1))\n",
    "y = np.array(data[predict])\n",
    "print(X)\n",
    "X_label = [\"G1\", \"G2\", \"studytime\", \"failures\", \"absences\"]\n",
    "print(X_label)"
   ]
  },
  {
   "cell_type": "code",
   "execution_count": 74,
   "metadata": {},
   "outputs": [],
   "source": [
    "X_train, X_test, y_train, y_test = sklearn.model_selection.train_test_split(X, y, test_size = 0.1)\n",
    "# Auto randomized\n"
   ]
  },
  {
   "cell_type": "code",
   "execution_count": 75,
   "metadata": {},
   "outputs": [
    {
     "name": "stdout",
     "output_type": "stream",
     "text": [
      "0.8903827493236648\n"
     ]
    }
   ],
   "source": [
    "linear = linear_model.LinearRegression()\n",
    "\n",
    "linear.fit(X_train,y_train)\n",
    "acc = linear.score(X_test,y_test)\n",
    "print(acc)"
   ]
  },
  {
   "cell_type": "code",
   "execution_count": 76,
   "metadata": {},
   "outputs": [
    {
     "name": "stdout",
     "output_type": "stream",
     "text": [
      "Coefficients: \n",
      " [ 0.1569118   0.98338254 -0.20381345 -0.23667015  0.03775665]\n",
      "\n",
      "Intercept: \n",
      " -1.58375728629143\n"
     ]
    }
   ],
   "source": [
    "print(\"Coefficients: \\n\", linear.coef_)\n",
    "print(\"\\nIntercept: \\n\", linear.intercept_)\n",
    "\n"
   ]
  },
  {
   "cell_type": "code",
   "execution_count": 77,
   "metadata": {},
   "outputs": [
    {
     "name": "stdout",
     "output_type": "stream",
     "text": [
      "[15.49059747 10.742277    8.36427437 12.19801459 10.8656772  11.76930139\n",
      "  7.24914046  8.49780481  8.75884158 -0.46916778  8.50034024 11.12408856\n",
      "  9.33016075 11.91280264 11.98831595  8.57920331  6.16344403  9.48707255\n",
      " 14.95611916 11.29268078  5.10454819  9.51624915  6.37412793 -0.57917794\n",
      "  3.36080233  7.65531864 13.49522074 13.87304813  7.43302377  9.56258585\n",
      "  9.80089616  4.01802594 10.02743607 12.14522775 12.57584199 17.0328944\n",
      " 12.62862883 11.00493341 10.23802998  8.1898664 ]\n"
     ]
    }
   ],
   "source": [
    "predictions = linear.predict(X_test)\n",
    "print(predictions)\n",
    "# Creating an array of all predicted values based on X_test values"
   ]
  },
  {
   "cell_type": "code",
   "execution_count": 78,
   "metadata": {},
   "outputs": [
    {
     "name": "stdout",
     "output_type": "stream",
     "text": [
      "[[15 15  2  0 10]\n",
      " [13 11  2  1  3]\n",
      " [ 9  9  2  2 15]\n",
      " [12 12  1  0  8]\n",
      " [13 11  2  0  0]\n",
      " [14 12  2  1  0]\n",
      " [ 8  8  1  1  4]\n",
      " [ 9  9  2  0  6]\n",
      " [11  9  3  0 10]\n",
      " [11  0  3  0  0]\n",
      " [ 7 10  3  1  0]\n",
      " [12 11  2  0 11]\n",
      " [ 9 10  2  0  2]\n",
      " [11 12  2  0 10]\n",
      " [11 12  2  0 12]\n",
      " [10  9  2  0  4]\n",
      " [ 6  7  2  1 15]\n",
      " [10 10  2  0  2]\n",
      " [14 15  2  0  0]\n",
      " [10 12  2  1  4]\n",
      " [ 6  6  2  1 13]\n",
      " [ 8  9  1  1 38]\n",
      " [ 8  7  2  0  6]\n",
      " [ 9  0  2  0  0]\n",
      " [ 6  5  1  3  0]\n",
      " [ 9  8  2  1 16]\n",
      " [14 13  1  0  8]\n",
      " [15 14  4  0  4]\n",
      " [ 8  8  2  0  8]\n",
      " [10 10  2  0  4]\n",
      " [12 10  2  0  2]\n",
      " [ 6  5  2  0  4]\n",
      " [12 10  2  0  8]\n",
      " [12 12  2  0 12]\n",
      " [13 13  4  0  4]\n",
      " [16 17  3  0  0]\n",
      " [13 13  3  0  0]\n",
      " [11 11  2  0 12]\n",
      " [ 9 11  2  0  0]\n",
      " [ 8  9  2  0  2]]\n"
     ]
    }
   ],
   "source": [
    "print(X_test)"
   ]
  },
  {
   "cell_type": "code",
   "execution_count": 79,
   "metadata": {},
   "outputs": [
    {
     "name": "stdout",
     "output_type": "stream",
     "text": [
      "15.490597474971896 [15 15  2  0 10] 15\n",
      "10.74227700051454 [13 11  2  1  3] 11\n",
      "8.364274371499652 [ 9  9  2  2 15] 9\n",
      "12.198014591186007 [12 12  1  0  8] 12\n",
      "10.865677198070152 [13 11  2  0  0] 10\n",
      "11.769301389246916 [14 12  2  1  0] 12\n",
      "7.2491404627341325 [8 8 1 1 4] 8\n",
      "8.497804812510864 [9 9 2 0 6] 10\n",
      "8.75884157862745 [11  9  3  0 10] 10\n",
      "-0.46916778410540116 [11  0  3  0  0] 0\n",
      "8.500340235901184 [ 7 10  3  1  0] 10\n",
      "11.124088559056268 [12 11  2  0 11] 11\n",
      "9.330160745829307 [ 9 10  2  0  2] 9\n",
      "11.912802642427458 [11 12  2  0 10] 13\n",
      "11.9883159451608 [11 12  2  0 12] 11\n",
      "8.579203313824786 [10  9  2  0  4] 9\n",
      "6.163444033443232 [ 6  7  2  1 15] 8\n",
      "9.487072549876572 [10 10  2  0  2] 10\n",
      "14.956119157257923 [14 15  2  0  0] 15\n",
      "11.292680778524542 [10 12  2  1  4] 12\n",
      "5.104548191924762 [ 6  6  2  1 13] 8\n",
      "9.516249147986075 [ 8  9  1  1 38] 8\n",
      "6.374127930893346 [8 7 2 0 6] 9\n",
      "-0.5791779447553032 [9 0 2 0 0] 0\n",
      "3.3608023295062903 [6 5 1 3 0] 0\n",
      "7.655318635736823 [ 9  8  2  1 16] 7\n",
      "13.495220738065665 [14 13  1  0  8] 13\n",
      "13.873048133097491 [15 14  4  0  4] 14\n",
      "7.433023772411815 [8 8 2 0 8] 6\n",
      "9.562585852609914 [10 10  2  0  4] 10\n",
      "9.800896157971101 [12 10  2  0  2] 11\n",
      "4.018025942495221 [6 5 2 0 4] 6\n",
      "10.027436066171127 [12 10  2  0  8] 11\n",
      "12.145227749208065 [12 12  2  0 12] 11\n",
      "12.575841986217833 [13 13  4  0  4] 12\n",
      "17.032894395478078 [16 17  3  0  0] 17\n",
      "12.628628828195776 [13 13  3  0  0] 13\n",
      "11.004933406375674 [11 11  2  0 12] 11\n",
      "10.238029981881093 [ 9 11  2  0  0] 12\n",
      "8.189866402996916 [8 9 2 0 2] 8\n",
      "[-0.49059747  0.257723    0.63572563 -0.19801459 -0.8656772   0.23069861\n",
      "  0.75085954  1.50219519  1.24115842  0.46916778  1.49965976 -0.12408856\n",
      " -0.33016075  1.08719736 -0.98831595  0.42079669  1.83655597  0.51292745\n",
      "  0.04388084  0.70731922  2.89545181 -1.51624915  2.62587207  0.57917794\n",
      " -3.36080233 -0.65531864 -0.49522074  0.12695187 -1.43302377  0.43741415\n",
      "  1.19910384  1.98197406  0.97256393 -1.14522775 -0.57584199 -0.0328944\n",
      "  0.37137117 -0.00493341  1.76197002 -0.1898664 ]\n"
     ]
    }
   ],
   "source": [
    "for x in range(len(predictions)):\n",
    "    print(predictions[x], X_test[x], y_test[x])\n",
    "# Observe how close the predictions are to y_test\n",
    "\n",
    "print(y_test - predictions)\n",
    "# Differences in hypothesis vs test values"
   ]
  },
  {
   "cell_type": "code",
   "execution_count": 94,
   "metadata": {},
   "outputs": [
    {
     "name": "stdout",
     "output_type": "stream",
     "text": [
      "Insert G1 here: 11\n",
      "Insert G2 here: 11\n",
      "Insert studytime here: 2\n",
      "Insert number of failures here: 0\n",
      "Insert number of absences here: 4\n",
      "Predicted grade is: 11\n"
     ]
    }
   ],
   "source": [
    "G1 = int(input(\"Insert G1 here: \"))\n",
    "G2 = int(input(\"Insert G2 here: \"))\n",
    "st = int(input(\"Insert studytime here: \"))\n",
    "fail = int(input(\"Insert number of failures here: \"))\n",
    "absence = int(input(\"Insert number of absences here: \"))                  \n",
    "\n",
    "predict_feature = ([[G1,G2,st,fail,absence]])\n",
    "predict_grade = float((linear.predict(predict_feature)))\n",
    "predict_grade = round(predict_grade)\n",
    "print(\"Predicted grade is: \" + str((predict_grade)))"
   ]
  },
  {
   "cell_type": "code",
   "execution_count": 93,
   "metadata": {},
   "outputs": [
    {
     "data": {
      "text/plain": [
       "10.702880195442306"
      ]
     },
     "execution_count": 93,
     "metadata": {},
     "output_type": "execute_result"
    }
   ],
   "source": [
    "predict_grade\n",
    "predict_grade "
   ]
  }
 ],
 "metadata": {
  "kernelspec": {
   "display_name": "Python 3",
   "language": "python",
   "name": "python3"
  },
  "language_info": {
   "codemirror_mode": {
    "name": "ipython",
    "version": 3
   },
   "file_extension": ".py",
   "mimetype": "text/x-python",
   "name": "python",
   "nbconvert_exporter": "python",
   "pygments_lexer": "ipython3",
   "version": "3.8.5"
  }
 },
 "nbformat": 4,
 "nbformat_minor": 4
}
